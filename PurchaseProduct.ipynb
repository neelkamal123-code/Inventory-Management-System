{
 "cells": [
  {
   "cell_type": "code",
   "execution_count": 19,
   "source": [
    "# Here you can\r\n",
    "#1.See the list of all the availaible proudcts.\r\n",
    "#2.Buy products\r\n",
    "#3.Show Sales\r\n",
    "import json\r\n",
    "# for representation of tables\r\n",
    "import plotly.graph_objects as go\r\n",
    "recordfile = 'record.json'\r\n",
    "salesfile = 'sales.json'\r\n",
    "\r\n",
    "sales_file_data = {\r\n",
    "\r\n",
    "}\r\n",
    "\r\n",
    "# will check if product already present or not\r\n",
    "def check_avail(id,quantity,price):\r\n",
    "\twith open(salesfile,'r+') as file:\r\n",
    "\t\tfile_data = json.load(file)\r\n",
    "\t\tvalue = file_data.get(id,-1)\r\n",
    "\t\tif value == -1:\r\n",
    "\t\t\treturn -1\r\n",
    "\t\telse:\r\n",
    "\t\t\tsales_file_data[id][\"quantity purchased\"] = sales_file_data[id][\"quantity purchased\"]+quantity\r\n",
    "\t\t\tsales_file_data[id][\"total amount\"] = sales_file_data[id][\"total amount\"]+price\r\n",
    "\t\t\tfile_data.update(sales_file_data)\r\n",
    "\t\t\tfile.seek(0)\r\n",
    "\t\t\t# updating inventory\r\n",
    "\t\t\tjson.dump(file_data,file,indent=4)\r\n",
    "\t\t\treturn 1\r\n"
   ],
   "outputs": [],
   "metadata": {}
  },
  {
   "cell_type": "code",
   "execution_count": 20,
   "source": [
    "\r\n",
    "# update sales\r\n",
    "def update_sales():\r\n",
    "\twith open(salesfile,'r+') as file:\r\n",
    "\t\tfile_data = json.load(file)\r\n",
    "\t\tfile_data.update(sales_file_data)\r\n",
    "\t\tfile.seek(0)\r\n",
    "\t\t# updating inventory\r\n",
    "\t\tjson.dump(file_data,file,indent=4)\r\n"
   ],
   "outputs": [],
   "metadata": {}
  },
  {
   "cell_type": "code",
   "execution_count": 21,
   "source": [
    "\r\n",
    "# display in a table list of all sales so far \r\n",
    "def show_sales():\r\n",
    "\twith open(salesfile,'r+') as file:\r\n",
    "\t\tfile_data = json.load(file)\r\n",
    "\t\tall_keys = list(file_data.keys())\r\n",
    "\t\tid_values = []\r\n",
    "\t\tname_values = []\r\n",
    "\t\tquantity_values = []\r\n",
    "\t\tamount_purchased = []\r\n",
    "\t\tcategory_values = []\r\n",
    "\t\tmanufacturer = []\r\n",
    "\tfor key in all_keys:\r\n",
    "\t\tid_values.append(key)\r\n",
    "\t\tname_values.append(file_data[key][\"name\"])\r\n",
    "\t\tcategory_values.append(file_data[key][\"category\"])\r\n",
    "\t\tquantity_values.append(file_data[key][\"quantity purchased\"])\r\n",
    "\t\tmanufacturer.append(file_data[key][\"manufacturer\"])\r\n",
    "\t\tamount_purchased.append(file_data[key][\"total amount\"])\r\n",
    "\tfig = go.Figure(data=[go.Table(header=dict(values=['Id', 'Names',\"Category\",\"Quantity Purchased\",\"manufacturer\",\"amount purchased\"]),\r\n",
    "\t\t\t\tcells=dict(values=[id_values,name_values,category_values,quantity_values,manufacturer,amount_purchased]))\r\n",
    "\t\t\t\t\t])\r\n",
    "\tfig.show()\r\n"
   ],
   "outputs": [],
   "metadata": {}
  },
  {
   "cell_type": "code",
   "execution_count": 22,
   "source": [
    "\r\n",
    "# show list of products\t\r\n",
    "def Show_Products():\r\n",
    "\twith open(recordfile,'r+') as file:\r\n",
    "\t\tfile_data = json.load(file)\r\n",
    "\t\tall_keys = list(file_data.keys())\r\n",
    "\t\tid_values = []\r\n",
    "\t\tname_values = []\r\n",
    "\t\tquantity_values = []\r\n",
    "\t\tprice_values = []\r\n",
    "\t\tcategory_values = []\r\n",
    "\tfor key in all_keys:\r\n",
    "\t\tid_values.append(key)\r\n",
    "\t\tname_values.append(file_data[key][\"name\"])\r\n",
    "\t\tquantity_values.append(file_data[key][\"quantity\"])\r\n",
    "\t\tprice_values.append(file_data[key][\"price per piece\"])\r\n",
    "\t\tcategory_values.append(file_data[key][\"category\"])\r\n",
    "\tfig = go.Figure(data=[go.Table(header=dict(values=['Id', 'Names',\"Quantity\",'Category',[\"Price Per Piece\"]]),\r\n",
    "\t\t\t\tcells=dict(values=[id_values,name_values,quantity_values,category_values,price_values]))\r\n",
    "\t\t\t\t\t])\r\n",
    "\tfig.show()\r\n"
   ],
   "outputs": [],
   "metadata": {}
  },
  {
   "cell_type": "code",
   "execution_count": 23,
   "source": [
    "# will check item already in record file or not\r\n",
    "# if there will increase its quantity and total amount\r\n",
    "def Buy_item(id,quantity):\r\n",
    "\twith open(recordfile,'r+') as file:\r\n",
    "\t\tfile_data = json.load(file)\r\n",
    "\t\tname = file_data[id][\"name\"]\r\n",
    "\t\tprice = quantity*file_data[id][\"price per piece\"]\r\n",
    "\t\t# checking if quantity is less than asked quantity \r\n",
    "\t\tif (file_data[id]['quantity']>=quantity):\r\n",
    "\t\t\tprint(f\"You Are about to Buy {quantity} {name} of {price} Rupees:\")\r\n",
    "\t\t\tchoice = input(\"Confirm Payment (y/n):\")\r\n",
    "\t\t\tif (choice == 'y' or choice == 'Y'):\r\n",
    "\t\t\t\tfile_data[id][\"quantity\"]= file_data[id][\"quantity\"]-quantity\r\n",
    "\t\t\t\tprint(\"Payment Succesfull !!\")\r\n",
    "\r\n",
    "\t\t\t\tif check_avail(id,quantity,price) == -1:\r\n",
    "\t\t\t\t\tchilddict = {}\r\n",
    "\t\t\t\t\tchilddict['name'] = file_data[id]['name']\r\n",
    "\t\t\t\t\tchilddict['category'] = file_data[id]['category']\r\n",
    "\t\t\t\t\tchilddict['quantity purchased'] = quantity\r\n",
    "\t\t\t\t\tchilddict['manufacturer'] = file_data[id]['manufacturer']\r\n",
    "\t\t\t\t\tchilddict['total amount'] = file_data[id]['price per piece']*quantity\r\n",
    "\t\t\t\t\tsales_file_data[id] = childdict\r\n",
    "\t\t\t\t\tfile.seek(0)\r\n",
    "\t\t\t\t\tjson.dump(file_data, file, indent = 4)\r\n",
    "\t\t\t\t\t#updating sales file\r\n",
    "\t\t\t\t\tupdate_sales()\r\n",
    "\t\telse:\r\n",
    "\t\t\tprint(\"Product Unavailaible !! :(\")\t\t\r\n",
    "\t\t\r\n",
    "\r\n"
   ],
   "outputs": [],
   "metadata": {}
  },
  {
   "cell_type": "code",
   "execution_count": 24,
   "source": [
    "\r\n",
    "# Main menu\r\n",
    "def Menu():\r\n",
    "\trun = True\r\n",
    "\twhile run:\r\n",
    "\t\tprint(\"**********Neel's Shop**********\")\r\n",
    "\t\tprint('1.Show Product List')\r\n",
    "\t\tprint('2.Buy Item')\r\n",
    "\t\tprint('3.Show Sales')\r\n",
    "\t\tprint('4.Exit')\r\n",
    "\t\tchoice = input(\"Enter Your Choice:\")\r\n",
    "\t\tif (choice =='1'):\r\n",
    "\t\t\tShow_Products()\r\n",
    "\t\telif (choice == '2'):\r\n",
    "\t\t\tid = input(\"Enter id of Item:\")\r\n",
    "\t\t\tquantity = input(\"Enter Quantity:\")\r\n",
    "\t\t\tBuy_item(id,int(quantity))\r\n",
    "\t\telif (choice == '3'):\r\n",
    "\t\t\tshow_sales()\r\n",
    "\t\telif (choice == '4'):\r\n",
    "\t\t\trun = False\r\n",
    "\t\telse:\r\n",
    "\t\t\tprint(\"Wrong input !!\")\r\n",
    "\r\n",
    "\r\n",
    "\r\n",
    "\t\r\n",
    "Menu()\r\n"
   ],
   "outputs": [
    {
     "output_type": "stream",
     "name": "stdout",
     "text": [
      "**********Neel's Shop**********\n",
      "1.Show Product List\n",
      "2.Buy Item\n",
      "3.Show Sales\n",
      "4.Exit\n"
     ]
    },
    {
     "output_type": "display_data",
     "data": {
      "application/vnd.plotly.v1+json": {
       "config": {
        "plotlyServerURL": "https://plot.ly"
       },
       "data": [
        {
         "cells": {
          "values": [
           [
            "1",
            "2",
            "3",
            "4",
            "5",
            "6",
            "7",
            "8",
            "9",
            "10",
            "11",
            "12",
            "13",
            "14",
            "15",
            "16",
            "17",
            "18",
            "19",
            "20",
            "21",
            "22",
            "23",
            "24",
            "25",
            "26",
            "27",
            "28",
            "29",
            "30"
           ],
           [
            "Dairy Milk Silk",
            "Hp Laptop",
            "LG Laptop",
            "Light skybag School bag",
            "Whirlpool Fridge",
            "Kent Purifier",
            "Microtek Inverter",
            "Mi Ultrabook",
            "Lenovo Thinkpad",
            "Redmi 3s prime",
            "Realme 11c",
            "Realme narzo 20",
            "Toshibha Mixer",
            "Samsung Charger",
            "Redmi Charger",
            "Realme Charger",
            "Addidas sports shoes",
            "Bata sports shoes",
            "Nike Futsal shoes",
            "Kripsta Futsal shoes",
            "Himalaya Facewash",
            "Clear & Clear Facewash",
            "Asus pro Laptop",
            "Apple Mac Book Air",
            "Apple Mac Book Pro",
            "Fastrack 122d Watch",
            "Titan 11a Watch",
            "Whirlpool Washing Machine",
            "Voltas Ac",
            "LG Monitor"
           ],
           [
            9,
            3,
            12,
            22,
            11,
            19,
            22,
            32,
            35,
            20,
            27,
            15,
            12,
            34,
            21,
            19,
            45,
            21,
            19,
            19,
            67,
            51,
            51,
            32,
            18,
            33,
            15,
            12,
            38,
            23
           ],
           [
            "Chocolate",
            "Laptop",
            "Laptop",
            "Bags",
            "Fridge",
            "Purifier",
            "Inverter",
            "Laptop",
            "Laptop",
            "Phone",
            "Phone",
            "Phone",
            "Mixer",
            "Charger",
            "Charger",
            "Charger",
            "Shoes",
            "Shoes",
            "Futsal Shoes",
            "Futsal Shoes",
            "Facewash",
            "Facewash",
            "Laptop",
            "Laptop",
            "Laptop",
            "Watch",
            "Watch",
            "Washing Machine",
            "Ac",
            "Monitor"
           ],
           [
            20,
            20000,
            25000,
            700,
            35000,
            5000,
            4500,
            59000,
            45000,
            9000,
            9050,
            8050,
            3500,
            800,
            900,
            1000,
            1200,
            1100,
            1399,
            1280,
            150,
            175,
            45000,
            83000,
            115000,
            950,
            2020,
            15040,
            5000,
            4500
           ]
          ]
         },
         "header": {
          "values": [
           "Id",
           "Names",
           "Quantity",
           "Category",
           [
            "Price Per Piece"
           ]
          ]
         },
         "type": "table"
        }
       ],
       "layout": {
        "template": {
         "data": {
          "bar": [
           {
            "error_x": {
             "color": "#2a3f5f"
            },
            "error_y": {
             "color": "#2a3f5f"
            },
            "marker": {
             "line": {
              "color": "#E5ECF6",
              "width": 0.5
             },
             "pattern": {
              "fillmode": "overlay",
              "size": 10,
              "solidity": 0.2
             }
            },
            "type": "bar"
           }
          ],
          "barpolar": [
           {
            "marker": {
             "line": {
              "color": "#E5ECF6",
              "width": 0.5
             },
             "pattern": {
              "fillmode": "overlay",
              "size": 10,
              "solidity": 0.2
             }
            },
            "type": "barpolar"
           }
          ],
          "carpet": [
           {
            "aaxis": {
             "endlinecolor": "#2a3f5f",
             "gridcolor": "white",
             "linecolor": "white",
             "minorgridcolor": "white",
             "startlinecolor": "#2a3f5f"
            },
            "baxis": {
             "endlinecolor": "#2a3f5f",
             "gridcolor": "white",
             "linecolor": "white",
             "minorgridcolor": "white",
             "startlinecolor": "#2a3f5f"
            },
            "type": "carpet"
           }
          ],
          "choropleth": [
           {
            "colorbar": {
             "outlinewidth": 0,
             "ticks": ""
            },
            "type": "choropleth"
           }
          ],
          "contour": [
           {
            "colorbar": {
             "outlinewidth": 0,
             "ticks": ""
            },
            "colorscale": [
             [
              0,
              "#0d0887"
             ],
             [
              0.1111111111111111,
              "#46039f"
             ],
             [
              0.2222222222222222,
              "#7201a8"
             ],
             [
              0.3333333333333333,
              "#9c179e"
             ],
             [
              0.4444444444444444,
              "#bd3786"
             ],
             [
              0.5555555555555556,
              "#d8576b"
             ],
             [
              0.6666666666666666,
              "#ed7953"
             ],
             [
              0.7777777777777778,
              "#fb9f3a"
             ],
             [
              0.8888888888888888,
              "#fdca26"
             ],
             [
              1,
              "#f0f921"
             ]
            ],
            "type": "contour"
           }
          ],
          "contourcarpet": [
           {
            "colorbar": {
             "outlinewidth": 0,
             "ticks": ""
            },
            "type": "contourcarpet"
           }
          ],
          "heatmap": [
           {
            "colorbar": {
             "outlinewidth": 0,
             "ticks": ""
            },
            "colorscale": [
             [
              0,
              "#0d0887"
             ],
             [
              0.1111111111111111,
              "#46039f"
             ],
             [
              0.2222222222222222,
              "#7201a8"
             ],
             [
              0.3333333333333333,
              "#9c179e"
             ],
             [
              0.4444444444444444,
              "#bd3786"
             ],
             [
              0.5555555555555556,
              "#d8576b"
             ],
             [
              0.6666666666666666,
              "#ed7953"
             ],
             [
              0.7777777777777778,
              "#fb9f3a"
             ],
             [
              0.8888888888888888,
              "#fdca26"
             ],
             [
              1,
              "#f0f921"
             ]
            ],
            "type": "heatmap"
           }
          ],
          "heatmapgl": [
           {
            "colorbar": {
             "outlinewidth": 0,
             "ticks": ""
            },
            "colorscale": [
             [
              0,
              "#0d0887"
             ],
             [
              0.1111111111111111,
              "#46039f"
             ],
             [
              0.2222222222222222,
              "#7201a8"
             ],
             [
              0.3333333333333333,
              "#9c179e"
             ],
             [
              0.4444444444444444,
              "#bd3786"
             ],
             [
              0.5555555555555556,
              "#d8576b"
             ],
             [
              0.6666666666666666,
              "#ed7953"
             ],
             [
              0.7777777777777778,
              "#fb9f3a"
             ],
             [
              0.8888888888888888,
              "#fdca26"
             ],
             [
              1,
              "#f0f921"
             ]
            ],
            "type": "heatmapgl"
           }
          ],
          "histogram": [
           {
            "marker": {
             "pattern": {
              "fillmode": "overlay",
              "size": 10,
              "solidity": 0.2
             }
            },
            "type": "histogram"
           }
          ],
          "histogram2d": [
           {
            "colorbar": {
             "outlinewidth": 0,
             "ticks": ""
            },
            "colorscale": [
             [
              0,
              "#0d0887"
             ],
             [
              0.1111111111111111,
              "#46039f"
             ],
             [
              0.2222222222222222,
              "#7201a8"
             ],
             [
              0.3333333333333333,
              "#9c179e"
             ],
             [
              0.4444444444444444,
              "#bd3786"
             ],
             [
              0.5555555555555556,
              "#d8576b"
             ],
             [
              0.6666666666666666,
              "#ed7953"
             ],
             [
              0.7777777777777778,
              "#fb9f3a"
             ],
             [
              0.8888888888888888,
              "#fdca26"
             ],
             [
              1,
              "#f0f921"
             ]
            ],
            "type": "histogram2d"
           }
          ],
          "histogram2dcontour": [
           {
            "colorbar": {
             "outlinewidth": 0,
             "ticks": ""
            },
            "colorscale": [
             [
              0,
              "#0d0887"
             ],
             [
              0.1111111111111111,
              "#46039f"
             ],
             [
              0.2222222222222222,
              "#7201a8"
             ],
             [
              0.3333333333333333,
              "#9c179e"
             ],
             [
              0.4444444444444444,
              "#bd3786"
             ],
             [
              0.5555555555555556,
              "#d8576b"
             ],
             [
              0.6666666666666666,
              "#ed7953"
             ],
             [
              0.7777777777777778,
              "#fb9f3a"
             ],
             [
              0.8888888888888888,
              "#fdca26"
             ],
             [
              1,
              "#f0f921"
             ]
            ],
            "type": "histogram2dcontour"
           }
          ],
          "mesh3d": [
           {
            "colorbar": {
             "outlinewidth": 0,
             "ticks": ""
            },
            "type": "mesh3d"
           }
          ],
          "parcoords": [
           {
            "line": {
             "colorbar": {
              "outlinewidth": 0,
              "ticks": ""
             }
            },
            "type": "parcoords"
           }
          ],
          "pie": [
           {
            "automargin": true,
            "type": "pie"
           }
          ],
          "scatter": [
           {
            "marker": {
             "colorbar": {
              "outlinewidth": 0,
              "ticks": ""
             }
            },
            "type": "scatter"
           }
          ],
          "scatter3d": [
           {
            "line": {
             "colorbar": {
              "outlinewidth": 0,
              "ticks": ""
             }
            },
            "marker": {
             "colorbar": {
              "outlinewidth": 0,
              "ticks": ""
             }
            },
            "type": "scatter3d"
           }
          ],
          "scattercarpet": [
           {
            "marker": {
             "colorbar": {
              "outlinewidth": 0,
              "ticks": ""
             }
            },
            "type": "scattercarpet"
           }
          ],
          "scattergeo": [
           {
            "marker": {
             "colorbar": {
              "outlinewidth": 0,
              "ticks": ""
             }
            },
            "type": "scattergeo"
           }
          ],
          "scattergl": [
           {
            "marker": {
             "colorbar": {
              "outlinewidth": 0,
              "ticks": ""
             }
            },
            "type": "scattergl"
           }
          ],
          "scattermapbox": [
           {
            "marker": {
             "colorbar": {
              "outlinewidth": 0,
              "ticks": ""
             }
            },
            "type": "scattermapbox"
           }
          ],
          "scatterpolar": [
           {
            "marker": {
             "colorbar": {
              "outlinewidth": 0,
              "ticks": ""
             }
            },
            "type": "scatterpolar"
           }
          ],
          "scatterpolargl": [
           {
            "marker": {
             "colorbar": {
              "outlinewidth": 0,
              "ticks": ""
             }
            },
            "type": "scatterpolargl"
           }
          ],
          "scatterternary": [
           {
            "marker": {
             "colorbar": {
              "outlinewidth": 0,
              "ticks": ""
             }
            },
            "type": "scatterternary"
           }
          ],
          "surface": [
           {
            "colorbar": {
             "outlinewidth": 0,
             "ticks": ""
            },
            "colorscale": [
             [
              0,
              "#0d0887"
             ],
             [
              0.1111111111111111,
              "#46039f"
             ],
             [
              0.2222222222222222,
              "#7201a8"
             ],
             [
              0.3333333333333333,
              "#9c179e"
             ],
             [
              0.4444444444444444,
              "#bd3786"
             ],
             [
              0.5555555555555556,
              "#d8576b"
             ],
             [
              0.6666666666666666,
              "#ed7953"
             ],
             [
              0.7777777777777778,
              "#fb9f3a"
             ],
             [
              0.8888888888888888,
              "#fdca26"
             ],
             [
              1,
              "#f0f921"
             ]
            ],
            "type": "surface"
           }
          ],
          "table": [
           {
            "cells": {
             "fill": {
              "color": "#EBF0F8"
             },
             "line": {
              "color": "white"
             }
            },
            "header": {
             "fill": {
              "color": "#C8D4E3"
             },
             "line": {
              "color": "white"
             }
            },
            "type": "table"
           }
          ]
         },
         "layout": {
          "annotationdefaults": {
           "arrowcolor": "#2a3f5f",
           "arrowhead": 0,
           "arrowwidth": 1
          },
          "autotypenumbers": "strict",
          "coloraxis": {
           "colorbar": {
            "outlinewidth": 0,
            "ticks": ""
           }
          },
          "colorscale": {
           "diverging": [
            [
             0,
             "#8e0152"
            ],
            [
             0.1,
             "#c51b7d"
            ],
            [
             0.2,
             "#de77ae"
            ],
            [
             0.3,
             "#f1b6da"
            ],
            [
             0.4,
             "#fde0ef"
            ],
            [
             0.5,
             "#f7f7f7"
            ],
            [
             0.6,
             "#e6f5d0"
            ],
            [
             0.7,
             "#b8e186"
            ],
            [
             0.8,
             "#7fbc41"
            ],
            [
             0.9,
             "#4d9221"
            ],
            [
             1,
             "#276419"
            ]
           ],
           "sequential": [
            [
             0,
             "#0d0887"
            ],
            [
             0.1111111111111111,
             "#46039f"
            ],
            [
             0.2222222222222222,
             "#7201a8"
            ],
            [
             0.3333333333333333,
             "#9c179e"
            ],
            [
             0.4444444444444444,
             "#bd3786"
            ],
            [
             0.5555555555555556,
             "#d8576b"
            ],
            [
             0.6666666666666666,
             "#ed7953"
            ],
            [
             0.7777777777777778,
             "#fb9f3a"
            ],
            [
             0.8888888888888888,
             "#fdca26"
            ],
            [
             1,
             "#f0f921"
            ]
           ],
           "sequentialminus": [
            [
             0,
             "#0d0887"
            ],
            [
             0.1111111111111111,
             "#46039f"
            ],
            [
             0.2222222222222222,
             "#7201a8"
            ],
            [
             0.3333333333333333,
             "#9c179e"
            ],
            [
             0.4444444444444444,
             "#bd3786"
            ],
            [
             0.5555555555555556,
             "#d8576b"
            ],
            [
             0.6666666666666666,
             "#ed7953"
            ],
            [
             0.7777777777777778,
             "#fb9f3a"
            ],
            [
             0.8888888888888888,
             "#fdca26"
            ],
            [
             1,
             "#f0f921"
            ]
           ]
          },
          "colorway": [
           "#636efa",
           "#EF553B",
           "#00cc96",
           "#ab63fa",
           "#FFA15A",
           "#19d3f3",
           "#FF6692",
           "#B6E880",
           "#FF97FF",
           "#FECB52"
          ],
          "font": {
           "color": "#2a3f5f"
          },
          "geo": {
           "bgcolor": "white",
           "lakecolor": "white",
           "landcolor": "#E5ECF6",
           "showlakes": true,
           "showland": true,
           "subunitcolor": "white"
          },
          "hoverlabel": {
           "align": "left"
          },
          "hovermode": "closest",
          "mapbox": {
           "style": "light"
          },
          "paper_bgcolor": "white",
          "plot_bgcolor": "#E5ECF6",
          "polar": {
           "angularaxis": {
            "gridcolor": "white",
            "linecolor": "white",
            "ticks": ""
           },
           "bgcolor": "#E5ECF6",
           "radialaxis": {
            "gridcolor": "white",
            "linecolor": "white",
            "ticks": ""
           }
          },
          "scene": {
           "xaxis": {
            "backgroundcolor": "#E5ECF6",
            "gridcolor": "white",
            "gridwidth": 2,
            "linecolor": "white",
            "showbackground": true,
            "ticks": "",
            "zerolinecolor": "white"
           },
           "yaxis": {
            "backgroundcolor": "#E5ECF6",
            "gridcolor": "white",
            "gridwidth": 2,
            "linecolor": "white",
            "showbackground": true,
            "ticks": "",
            "zerolinecolor": "white"
           },
           "zaxis": {
            "backgroundcolor": "#E5ECF6",
            "gridcolor": "white",
            "gridwidth": 2,
            "linecolor": "white",
            "showbackground": true,
            "ticks": "",
            "zerolinecolor": "white"
           }
          },
          "shapedefaults": {
           "line": {
            "color": "#2a3f5f"
           }
          },
          "ternary": {
           "aaxis": {
            "gridcolor": "white",
            "linecolor": "white",
            "ticks": ""
           },
           "baxis": {
            "gridcolor": "white",
            "linecolor": "white",
            "ticks": ""
           },
           "bgcolor": "#E5ECF6",
           "caxis": {
            "gridcolor": "white",
            "linecolor": "white",
            "ticks": ""
           }
          },
          "title": {
           "x": 0.05
          },
          "xaxis": {
           "automargin": true,
           "gridcolor": "white",
           "linecolor": "white",
           "ticks": "",
           "title": {
            "standoff": 15
           },
           "zerolinecolor": "white",
           "zerolinewidth": 2
          },
          "yaxis": {
           "automargin": true,
           "gridcolor": "white",
           "linecolor": "white",
           "ticks": "",
           "title": {
            "standoff": 15
           },
           "zerolinecolor": "white",
           "zerolinewidth": 2
          }
         }
        }
       }
      }
     },
     "metadata": {}
    },
    {
     "output_type": "stream",
     "name": "stdout",
     "text": [
      "**********Neel's Shop**********\n",
      "1.Show Product List\n",
      "2.Buy Item\n",
      "3.Show Sales\n",
      "4.Exit\n",
      "You Are about to Buy 1 Hp Laptop of 20000 Rupees:\n",
      "**********Neel's Shop**********\n",
      "1.Show Product List\n",
      "2.Buy Item\n",
      "3.Show Sales\n",
      "4.Exit\n",
      "You Are about to Buy 2 Light skybag School bag of 1400 Rupees:\n",
      "Payment Succesfull !!\n"
     ]
    },
    {
     "output_type": "error",
     "ename": "KeyError",
     "evalue": "'4'",
     "traceback": [
      "\u001b[1;31m---------------------------------------------------------------------------\u001b[0m",
      "\u001b[1;31mKeyError\u001b[0m                                  Traceback (most recent call last)",
      "\u001b[1;32m~\\AppData\\Local\\Temp/ipykernel_7988/3889213459.py\u001b[0m in \u001b[0;36m<module>\u001b[1;34m\u001b[0m\n\u001b[0;32m     25\u001b[0m \u001b[1;33m\u001b[0m\u001b[0m\n\u001b[0;32m     26\u001b[0m \u001b[1;33m\u001b[0m\u001b[0m\n\u001b[1;32m---> 27\u001b[1;33m \u001b[0mMenu\u001b[0m\u001b[1;33m(\u001b[0m\u001b[1;33m)\u001b[0m\u001b[1;33m\u001b[0m\u001b[1;33m\u001b[0m\u001b[0m\n\u001b[0m",
      "\u001b[1;32m~\\AppData\\Local\\Temp/ipykernel_7988/3889213459.py\u001b[0m in \u001b[0;36mMenu\u001b[1;34m()\u001b[0m\n\u001b[0;32m     14\u001b[0m                         \u001b[0mid\u001b[0m \u001b[1;33m=\u001b[0m \u001b[0minput\u001b[0m\u001b[1;33m(\u001b[0m\u001b[1;34m\"Enter id of Item:\"\u001b[0m\u001b[1;33m)\u001b[0m\u001b[1;33m\u001b[0m\u001b[1;33m\u001b[0m\u001b[0m\n\u001b[0;32m     15\u001b[0m                         \u001b[0mquantity\u001b[0m \u001b[1;33m=\u001b[0m \u001b[0minput\u001b[0m\u001b[1;33m(\u001b[0m\u001b[1;34m\"Enter Quantity:\"\u001b[0m\u001b[1;33m)\u001b[0m\u001b[1;33m\u001b[0m\u001b[1;33m\u001b[0m\u001b[0m\n\u001b[1;32m---> 16\u001b[1;33m                         \u001b[0mBuy_item\u001b[0m\u001b[1;33m(\u001b[0m\u001b[0mid\u001b[0m\u001b[1;33m,\u001b[0m\u001b[0mint\u001b[0m\u001b[1;33m(\u001b[0m\u001b[0mquantity\u001b[0m\u001b[1;33m)\u001b[0m\u001b[1;33m)\u001b[0m\u001b[1;33m\u001b[0m\u001b[1;33m\u001b[0m\u001b[0m\n\u001b[0m\u001b[0;32m     17\u001b[0m                 \u001b[1;32melif\u001b[0m \u001b[1;33m(\u001b[0m\u001b[0mchoice\u001b[0m \u001b[1;33m==\u001b[0m \u001b[1;34m'3'\u001b[0m\u001b[1;33m)\u001b[0m\u001b[1;33m:\u001b[0m\u001b[1;33m\u001b[0m\u001b[1;33m\u001b[0m\u001b[0m\n\u001b[0;32m     18\u001b[0m                         \u001b[0mshow_sales\u001b[0m\u001b[1;33m(\u001b[0m\u001b[1;33m)\u001b[0m\u001b[1;33m\u001b[0m\u001b[1;33m\u001b[0m\u001b[0m\n",
      "\u001b[1;32m~\\AppData\\Local\\Temp/ipykernel_7988/408196766.py\u001b[0m in \u001b[0;36mBuy_item\u001b[1;34m(id, quantity)\u001b[0m\n\u001b[0;32m     14\u001b[0m                                 \u001b[0mprint\u001b[0m\u001b[1;33m(\u001b[0m\u001b[1;34m\"Payment Succesfull !!\"\u001b[0m\u001b[1;33m)\u001b[0m\u001b[1;33m\u001b[0m\u001b[1;33m\u001b[0m\u001b[0m\n\u001b[0;32m     15\u001b[0m \u001b[1;33m\u001b[0m\u001b[0m\n\u001b[1;32m---> 16\u001b[1;33m                                 \u001b[1;32mif\u001b[0m \u001b[0mcheck_avail\u001b[0m\u001b[1;33m(\u001b[0m\u001b[0mid\u001b[0m\u001b[1;33m,\u001b[0m\u001b[0mquantity\u001b[0m\u001b[1;33m,\u001b[0m\u001b[0mprice\u001b[0m\u001b[1;33m)\u001b[0m \u001b[1;33m==\u001b[0m \u001b[1;33m-\u001b[0m\u001b[1;36m1\u001b[0m\u001b[1;33m:\u001b[0m\u001b[1;33m\u001b[0m\u001b[1;33m\u001b[0m\u001b[0m\n\u001b[0m\u001b[0;32m     17\u001b[0m                                         \u001b[0mchilddict\u001b[0m \u001b[1;33m=\u001b[0m \u001b[1;33m{\u001b[0m\u001b[1;33m}\u001b[0m\u001b[1;33m\u001b[0m\u001b[1;33m\u001b[0m\u001b[0m\n\u001b[0;32m     18\u001b[0m                                         \u001b[0mchilddict\u001b[0m\u001b[1;33m[\u001b[0m\u001b[1;34m'name'\u001b[0m\u001b[1;33m]\u001b[0m \u001b[1;33m=\u001b[0m \u001b[0mfile_data\u001b[0m\u001b[1;33m[\u001b[0m\u001b[0mid\u001b[0m\u001b[1;33m]\u001b[0m\u001b[1;33m[\u001b[0m\u001b[1;34m'name'\u001b[0m\u001b[1;33m]\u001b[0m\u001b[1;33m\u001b[0m\u001b[1;33m\u001b[0m\u001b[0m\n",
      "\u001b[1;32m~\\AppData\\Local\\Temp/ipykernel_7988/3577762623.py\u001b[0m in \u001b[0;36mcheck_avail\u001b[1;34m(id, quantity, price)\u001b[0m\n\u001b[0;32m     21\u001b[0m                         \u001b[1;32mreturn\u001b[0m \u001b[1;33m-\u001b[0m\u001b[1;36m1\u001b[0m\u001b[1;33m\u001b[0m\u001b[1;33m\u001b[0m\u001b[0m\n\u001b[0;32m     22\u001b[0m                 \u001b[1;32melse\u001b[0m\u001b[1;33m:\u001b[0m\u001b[1;33m\u001b[0m\u001b[1;33m\u001b[0m\u001b[0m\n\u001b[1;32m---> 23\u001b[1;33m                         \u001b[0msales_file_data\u001b[0m\u001b[1;33m[\u001b[0m\u001b[0mid\u001b[0m\u001b[1;33m]\u001b[0m\u001b[1;33m[\u001b[0m\u001b[1;34m\"quantity purchased\"\u001b[0m\u001b[1;33m]\u001b[0m \u001b[1;33m=\u001b[0m \u001b[0msales_file_data\u001b[0m\u001b[1;33m[\u001b[0m\u001b[0mid\u001b[0m\u001b[1;33m]\u001b[0m\u001b[1;33m[\u001b[0m\u001b[1;34m\"quantity purchased\"\u001b[0m\u001b[1;33m]\u001b[0m\u001b[1;33m+\u001b[0m\u001b[0mquantity\u001b[0m\u001b[1;33m\u001b[0m\u001b[1;33m\u001b[0m\u001b[0m\n\u001b[0m\u001b[0;32m     24\u001b[0m                         \u001b[0msales_file_data\u001b[0m\u001b[1;33m[\u001b[0m\u001b[0mid\u001b[0m\u001b[1;33m]\u001b[0m\u001b[1;33m[\u001b[0m\u001b[1;34m\"total amount\"\u001b[0m\u001b[1;33m]\u001b[0m \u001b[1;33m=\u001b[0m \u001b[0msales_file_data\u001b[0m\u001b[1;33m[\u001b[0m\u001b[0mid\u001b[0m\u001b[1;33m]\u001b[0m\u001b[1;33m[\u001b[0m\u001b[1;34m\"total amount\"\u001b[0m\u001b[1;33m]\u001b[0m\u001b[1;33m+\u001b[0m\u001b[0mprice\u001b[0m\u001b[1;33m\u001b[0m\u001b[1;33m\u001b[0m\u001b[0m\n\u001b[0;32m     25\u001b[0m                         \u001b[0mfile_data\u001b[0m\u001b[1;33m.\u001b[0m\u001b[0mupdate\u001b[0m\u001b[1;33m(\u001b[0m\u001b[0msales_file_data\u001b[0m\u001b[1;33m)\u001b[0m\u001b[1;33m\u001b[0m\u001b[1;33m\u001b[0m\u001b[0m\n",
      "\u001b[1;31mKeyError\u001b[0m: '4'"
     ]
    }
   ],
   "metadata": {}
  }
 ],
 "metadata": {
  "orig_nbformat": 4,
  "language_info": {
   "name": "python",
   "version": "3.9.5",
   "mimetype": "text/x-python",
   "codemirror_mode": {
    "name": "ipython",
    "version": 3
   },
   "pygments_lexer": "ipython3",
   "nbconvert_exporter": "python",
   "file_extension": ".py"
  },
  "kernelspec": {
   "name": "python3",
   "display_name": "Python 3.9.5 64-bit"
  },
  "interpreter": {
   "hash": "d0f1a46e1b8bb49f6fe66dfa14ba01e1c4ea6e7377c07a6040c9a42d856a631d"
  }
 },
 "nbformat": 4,
 "nbformat_minor": 2
}