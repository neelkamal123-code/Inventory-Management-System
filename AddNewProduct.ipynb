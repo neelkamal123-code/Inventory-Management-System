{
 "cells": [
  {
   "cell_type": "code",
   "execution_count": null,
   "source": [
    "# This file is used to add new item to\r\n",
    "# record.json file, just change values in \r\n",
    "# the dictionary y :)\r\n",
    "\r\n",
    "import json\r\n",
    "filename = 'record.json'\r\n",
    "\r\n",
    "def write_json(new_data, filename=filename):\r\n",
    "\twith open(filename,'r+') as file:\r\n",
    "\t\t# First we load existing data into a dict.\r\n",
    "\t\tfile_data = json.load(file)\r\n",
    "\t\tfile_data.update(new_data)\r\n",
    "\t\tfile.seek(0)\r\n",
    "\t\t# updating inventory\r\n",
    "\t\tjson.dump(file_data,file,indent=4)\r\n",
    "\r\n",
    "\r\n",
    "y = {\r\n",
    "\t\"30\" : {\r\n",
    "            \"name\": \"LG Monitor\",\r\n",
    "            \"category\": \"Monitor\",\r\n",
    "            \"quantity\": 23,\r\n",
    "            \"price per piece\": 4500,\r\n",
    "            \"manufacturer\": \"LG\"\r\n",
    "        }\r\n",
    "\t}\r\n",
    "\r\n",
    "\r\n",
    "# To write new product info in inventory\r\n",
    "write_json(y)"
   ],
   "outputs": [],
   "metadata": {}
  }
 ],
 "metadata": {
  "orig_nbformat": 4,
  "language_info": {
   "name": "python"
  }
 },
 "nbformat": 4,
 "nbformat_minor": 2
}